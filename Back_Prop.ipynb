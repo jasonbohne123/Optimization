{
 "cells": [
  {
   "cell_type": "markdown",
   "id": "cced6464-6c15-4c05-8f70-a0a0819f1236",
   "metadata": {},
   "source": [
    "### BackPropagation Algorithm"
   ]
  },
  {
   "cell_type": "code",
   "execution_count": 1,
   "id": "eb3c7732-accc-43af-98ba-b6e2db616999",
   "metadata": {},
   "outputs": [],
   "source": [
    "import numpy as np\n",
    "\n",
    "import pandas as pd\n",
    "import matplotlib.pyplot as plt\n",
    "import warnings\n",
    "warnings.filterwarnings('ignore', '.*A value is trying to be set on a copy of a slice from a DataFrame.*')\n",
    "warnings.simplefilter(action='ignore', category=FutureWarning)\n",
    "warnings.simplefilter(action='ignore', category=Warning)"
   ]
  },
  {
   "cell_type": "code",
   "execution_count": 2,
   "id": "82063f1e-04e9-45ab-9add-1ab1332c0e6f",
   "metadata": {},
   "outputs": [
    {
     "data": {
      "text/plain": [
       "<matplotlib.legend.Legend at 0x7fd8642b1ad0>"
      ]
     },
     "execution_count": 2,
     "metadata": {},
     "output_type": "execute_result"
    },
    {
     "data": {
      "image/png": "[encoded data removed]",
      "text/plain": [
       "<Figure size 432x288 with 1 Axes>"
      ]
     },
     "metadata": {
      "needs_background": "light"
     },
     "output_type": "display_data"
    }
   ],
   "source": [
    "x_train=np.linspace(0,5,20)\n",
    "def f(x):\n",
    "    return x**2+np.sqrt(x)\n",
    "y_train=f(x_train)+2*(-1+2*np.random.rand(20))\n",
    "\n",
    "plt.scatter(x_train,y_train,label='Observed Data')\n",
    "plt.plot(x_train,f(x_train),color='red',label='true')\n",
    "plt.legend()"
   ]
  },
  {
   "cell_type": "markdown",
   "id": "8e9f1600-2a50-4c77-b7f7-7e565be3b691",
   "metadata": {},
   "source": [
    "Note our features are orders of a polynomial evalutated at a point"
   ]
  },
  {
   "cell_type": "code",
   "execution_count": 16,
   "id": "ff91c509-7a1b-4f02-b925-ca6a17459fe2",
   "metadata": {},
   "outputs": [
    {
     "data": {
      "text/plain": [
       "array([[ 1.        ,  0.        ,  0.        ],\n",
       "       [ 1.        ,  0.26315789,  0.06925208],\n",
       "       [ 1.        ,  0.52631579,  0.27700831],\n",
       "       [ 1.        ,  0.78947368,  0.6232687 ],\n",
       "       [ 1.        ,  1.05263158,  1.10803324],\n",
       "       [ 1.        ,  1.31578947,  1.73130194],\n",
       "       [ 1.        ,  1.57894737,  2.49307479],\n",
       "       [ 1.        ,  1.84210526,  3.3933518 ],\n",
       "       [ 1.        ,  2.10526316,  4.43213296],\n",
       "       [ 1.        ,  2.36842105,  5.60941828],\n",
       "       [ 1.        ,  2.63157895,  6.92520776],\n",
       "       [ 1.        ,  2.89473684,  8.37950139],\n",
       "       [ 1.        ,  3.15789474,  9.97229917],\n",
       "       [ 1.        ,  3.42105263, 11.70360111],\n",
       "       [ 1.        ,  3.68421053, 13.5734072 ],\n",
       "       [ 1.        ,  3.94736842, 15.58171745],\n",
       "       [ 1.        ,  4.21052632, 17.72853186],\n",
       "       [ 1.        ,  4.47368421, 20.01385042],\n",
       "       [ 1.        ,  4.73684211, 22.43767313],\n",
       "       [ 1.        ,  5.        , 25.        ]])"
      ]
     },
     "execution_count": 16,
     "metadata": {},
     "output_type": "execute_result"
    }
   ],
   "source": [
    "features= x_train[:, np.newaxis]**[0,1,2]\n",
    "features"
   ]
  },
  {
   "cell_type": "markdown",
   "id": "44905db3-87ce-41d0-a618-2e3801e599c2",
   "metadata": {},
   "source": [
    "Normalizing our data ( as we can do with discrete vectors)"
   ]
  },
  {
   "cell_type": "code",
   "execution_count": 17,
   "id": "b935bfe5-aeed-4160-ad8b-6e9fd3e4c96f",
   "metadata": {},
   "outputs": [],
   "source": [
    "def standardize(features):\n",
    "    return (features-np.mean(features,axis=0))/np.linalg.norm(np.std(M,axis=0))"
   ]
  },
  {
   "cell_type": "code",
   "execution_count": 19,
   "id": "dcb26d62-e114-46a3-a10e-2775341403e5",
   "metadata": {},
   "outputs": [
    {
     "data": {
      "text/plain": [
       "array([[ 0.        , -0.31230921, -1.06842625],\n",
       "       [ 0.        , -0.27943456, -1.05977503],\n",
       "       [ 0.        , -0.2465599 , -1.03382135],\n",
       "       [ 0.        , -0.21368525, -0.99056523],\n",
       "       [ 0.        , -0.1808106 , -0.93000666],\n",
       "       [ 0.        , -0.14793594, -0.85214563],\n",
       "       [ 0.        , -0.11506129, -0.75698216],\n",
       "       [ 0.        , -0.08218663, -0.64451624],\n",
       "       [ 0.        , -0.04931198, -0.51474787],\n",
       "       [ 0.        , -0.01643733, -0.36767705],\n",
       "       [ 0.        ,  0.01643733, -0.20330378],\n",
       "       [ 0.        ,  0.04931198, -0.02162806],\n",
       "       [ 0.        ,  0.08218663,  0.17735011],\n",
       "       [ 0.        ,  0.11506129,  0.39363072],\n",
       "       [ 0.        ,  0.14793594,  0.62721379],\n",
       "       [ 0.        ,  0.1808106 ,  0.87809931],\n",
       "       [ 0.        ,  0.21368525,  1.14628727],\n",
       "       [ 0.        ,  0.2465599 ,  1.43177769],\n",
       "       [ 0.        ,  0.27943456,  1.73457055],\n",
       "       [ 0.        ,  0.31230921,  2.05466587]])"
      ]
     },
     "execution_count": 19,
     "metadata": {},
     "output_type": "execute_result"
    }
   ],
   "source": [
    "norm_features=standardize(features)\n",
    "norm_features"
   ]
  },
  {
   "cell_type": "markdown",
   "id": "dfe6baf5-9618-47b0-8a21-a62e7ad10648",
   "metadata": {},
   "source": [
    "Below is the algorithm responsible for forward propagation"
   ]
  },
  {
   "cell_type": "code",
   "execution_count": 52,
   "id": "ac5cc692-22e9-48d2-b43e-777281e7021a",
   "metadata": {},
   "outputs": [],
   "source": [
    "def evaluate_network(features,target):\n",
    "    input_w=np.random.rand(features.shape[1])\n",
    "    activation_w=np.random.rand(features.shape[1])\n",
    "    def relu(z):\n",
    "        '''\n",
    "        Activation layer of relu\n",
    "        '''\n",
    "        for i,el in enumerate(z):\n",
    "            \n",
    "            z[i]=max(0,el)\n",
    "        return z\n",
    "    \n",
    "    loss=0\n",
    "    for i in range(0,len(features)):\n",
    "        layer1=relu(features[i]*input_w)\n",
    "        \n",
    "        diff=np.dot(activation_w,layer1)-target[i]\n",
    "        loss=loss+diff*2\n",
    "    \n",
    "    return loss"
   ]
  },
  {
   "cell_type": "code",
   "execution_count": 53,
   "id": "84183137-60c7-41d3-98b8-df18f246f015",
   "metadata": {},
   "outputs": [
    {
     "data": {
      "text/plain": [
       "-393.34895497996297"
      ]
     },
     "execution_count": 53,
     "metadata": {},
     "output_type": "execute_result"
    }
   ],
   "source": [
    "evaluate_network(norm_features,y_train)"
   ]
  },
  {
   "cell_type": "code",
   "execution_count": null,
   "id": "f0e03467-70f2-4e84-9a45-f1c79a415b7e",
   "metadata": {},
   "outputs": [],
   "source": []
  }
 ],
 "metadata": {
  "kernelspec": {
   "display_name": "Python [conda env:research]",
   "language": "python",
   "name": "conda-env-research-py"
  },
  "language_info": {
   "codemirror_mode": {
    "name": "ipython",
    "version": 3
   },
   "file_extension": ".py",
   "mimetype": "text/x-python",
   "name": "python",
   "nbconvert_exporter": "python",
   "pygments_lexer": "ipython3",
   "version": "3.7.13"
  }
 },
 "nbformat": 4,
 "nbformat_minor": 5
}
