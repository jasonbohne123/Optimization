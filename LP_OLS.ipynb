{
 "cells": [
  {
   "cell_type": "markdown",
   "id": "cbe7bdc7-7bad-4c05-a635-0fae64c2639e",
   "metadata": {},
   "source": [
    "### Overview of Linear and Integer Programming \n",
    "\n",
    "Linear Programming solves a continuous linear system which is formulated as an inequality (or equality)\n",
    "\n",
    "Methods for solving are the primal or dual simplex method , which we will go in further detail below\n",
    "\n",
    "Integer Linear Programming is the discrete formulation of such, which are typically solved via branch-and-bound methods "
   ]
  },
  {
   "cell_type": "code",
   "execution_count": 39,
   "id": "0e2fe6f8-780b-4cb1-b7c6-f04c300a3114",
   "metadata": {},
   "outputs": [],
   "source": [
    "from pulp import *\n",
    "import numpy as np\n",
    "import matplotlib.pyplot as plt"
   ]
  },
  {
   "cell_type": "code",
   "execution_count": 3,
   "id": "c2c65d90-15c2-4198-9587-7bbe0f28e9eb",
   "metadata": {},
   "outputs": [
    {
     "data": {
      "text/plain": [
       "['COIN_CMD']"
      ]
     },
     "execution_count": 3,
     "metadata": {},
     "output_type": "execute_result"
    }
   ],
   "source": [
    "solver_list = pl.listSolvers(onlyAvailable=True)\n",
    "solver_list"
   ]
  },
  {
   "cell_type": "markdown",
   "id": "cfe10824-0788-4cec-9ce1-961eda0ac3fb",
   "metadata": {},
   "source": [
    "### Test Problem\n",
    "\n",
    "Here we solve a LP approximation to a trigonometric function via taylor approximation "
   ]
  },
  {
   "cell_type": "code",
   "execution_count": 81,
   "id": "f64271c2-7bc0-4901-ae25-0fca05bdb103",
   "metadata": {},
   "outputs": [],
   "source": [
    "x=np.linspace (-1,1,50)\n",
    "features=np.array([x**0,x**1,x**2,x**3]).T\n",
    "y=np.sin(x)+4*np.random.rand(50)"
   ]
  },
  {
   "cell_type": "markdown",
   "id": "7f2057f8-0cb5-4ff1-b175-5979e1ac7c6d",
   "metadata": {},
   "source": [
    "### OLS Solution"
   ]
  },
  {
   "cell_type": "code",
   "execution_count": 82,
   "id": "8663e56f-8530-4063-8fe7-1b8baca240e5",
   "metadata": {},
   "outputs": [
    {
     "name": "stderr",
     "output_type": "stream",
     "text": [
      "/home/jbohn/miniconda3/envs/research/lib/python3.7/site-packages/ipykernel_launcher.py:1: FutureWarning: `rcond` parameter will change to the default of machine precision times ``max(M, N)`` where M and N are the input matrix dimensions.\n",
      "To use the future default and silence this warning we advise to pass `rcond=None`, to keep using the old, explicitly pass `rcond=-1`.\n",
      "  \"\"\"Entry point for launching an IPython kernel.\n"
     ]
    },
    {
     "data": {
      "text/plain": [
       "array([ 2.27777129,  0.31429397, -0.80235372,  0.50425639])"
      ]
     },
     "execution_count": 82,
     "metadata": {},
     "output_type": "execute_result"
    }
   ],
   "source": [
    "sol,resid,rank,s=np.linalg.lstsq(features,y)\n",
    "sol"
   ]
  },
  {
   "cell_type": "code",
   "execution_count": 83,
   "id": "7db4d04d-81e8-4bd4-b5bc-93918a866f6e",
   "metadata": {},
   "outputs": [
    {
     "data": {
      "text/plain": [
       "Text(0.5, 1.0, 'OLS Solution, Residuals of 72.97')"
      ]
     },
     "execution_count": 83,
     "metadata": {},
     "output_type": "execute_result"
    },
    {
     "data": {
      "image/png": "[encoded data removed]",
      "text/plain": [
       "<Figure size 640x480 with 1 Axes>"
      ]
     },
     "metadata": {},
     "output_type": "display_data"
    }
   ],
   "source": [
    "y_hat=np.matmul(features,sol)\n",
    "plt.plot(x,y_hat)\n",
    "plt.scatter(x,y,color='orange')\n",
    "plt.title(f\"OLS Solution, Residuals of {round(resid[0],2)}\")"
   ]
  },
  {
   "cell_type": "markdown",
   "id": "1a78afb7-4604-4d41-b871-da614eeb3ec1",
   "metadata": {},
   "source": [
    "### Loosen to Inequality \n",
    "\n",
    "We wish to numerically minimize solution s.t. our estimates predicts less than all observations"
   ]
  },
  {
   "cell_type": "code",
   "execution_count": 84,
   "id": "f5cbb75d-890e-4d76-b0fb-708e4c436dd2",
   "metadata": {},
   "outputs": [
    {
     "name": "stdout",
     "output_type": "stream",
     "text": [
      "Welcome to the CBC MILP Solver \n",
      "Version: 2.10.8 \n",
      "Build Date: May  6 2022 \n",
      "\n",
      "command line - cbc /tmp/70ef6f63ea15400884f2ffd6d3a3df3e-pulp.mps timeMode elapsed branch printingOptions all solution /tmp/70ef6f63ea15400884f2ffd6d3a3df3e-pulp.sol (default strategy 1)\n",
      "At line 2 NAME          MODEL\n",
      "At line 3 ROWS\n",
      "At line 55 COLUMNS\n",
      "At line 260 RHS\n",
      "At line 311 BOUNDS\n",
      "At line 316 ENDATA\n",
      "Problem MODEL has 50 rows, 4 columns and 200 elements\n",
      "Coin0008I MODEL read with 0 errors\n",
      "Option for timeMode changed from cpu to elapsed\n",
      "Presolve 50 (0) rows, 4 (0) columns and 200 (0) elements\n",
      "0  Obj 0 Primal inf 1.7273932 (3) Dual inf 3.2396953 (2) w.o. free dual inf (0)\n",
      "5  Obj -12.770307\n",
      "Optimal - objective value -12.770307\n",
      "Optimal objective -12.77030708 - 5 iterations time 0.002\n",
      "Option for printingOptions changed from normal to all\n",
      "Total time (CPU seconds):       0.00   (Wallclock seconds):       0.00\n",
      "\n"
     ]
    },
    {
     "data": {
      "text/plain": [
       "1"
      ]
     },
     "execution_count": 84,
     "metadata": {},
     "output_type": "execute_result"
    }
   ],
   "source": [
    "problem=LpProblem(\"OLS_Example\", LpMinimize)\n",
    "\n",
    "x0=LpVariable(\"Constant\")\n",
    "x1=LpVariable(\"Order_1\")\n",
    "x2=LpVariable(\"Order_2\")\n",
    "x3=LpVariable(\"Order_3\")\n",
    "\n",
    "estimates=np.array([x0,x1,x2,x3])\n",
    "problem+=np.sum(y-np.dot(features,estimates)) # objective\n",
    "\n",
    "for i,row in enumerate(features):\n",
    "    problem+=row[0]*x0+row[1]*x1+row[2]*x2+row[3]*x3 <=y[i]\n",
    "\n",
    "problem.solve()"
   ]
  },
  {
   "cell_type": "code",
   "execution_count": 85,
   "id": "33933b82-f382-4082-91fb-406f4512a1a0",
   "metadata": {},
   "outputs": [
    {
     "name": "stdout",
     "output_type": "stream",
     "text": [
      "Status: Optimal\n"
     ]
    }
   ],
   "source": [
    "print(\"Status:\", LpStatus[problem.status])"
   ]
  },
  {
   "cell_type": "code",
   "execution_count": 86,
   "id": "2b57ac36-acb2-4cce-a63a-312367b786ce",
   "metadata": {},
   "outputs": [
    {
     "name": "stdout",
     "output_type": "stream",
     "text": [
      "Constant = 0.18925282\n",
      "Order_1 = 1.0841145\n",
      "Order_2 = 0.19067721\n",
      "Order_3 = 0.11425892\n"
     ]
    }
   ],
   "source": [
    "values=[]\n",
    "for v in problem.variables():\n",
    "    print(v.name, \"=\", v.varValue)\n",
    "    values.append(v.varValue)"
   ]
  },
  {
   "cell_type": "code",
   "execution_count": 87,
   "id": "43beb415-912c-4952-b21a-4b117d364e26",
   "metadata": {},
   "outputs": [
    {
     "data": {
      "text/plain": [
       "Text(0.5, 1.0, 'OLS Solution, Residuals of 234.79')"
      ]
     },
     "execution_count": 87,
     "metadata": {},
     "output_type": "execute_result"
    },
    {
     "data": {
      "image/png": "[encoded data removed]",
      "text/plain": [
       "<Figure size 640x480 with 1 Axes>"
      ]
     },
     "metadata": {},
     "output_type": "display_data"
    }
   ],
   "source": [
    "y_hat=np.matmul(features,values)\n",
    "plt.plot(x,y_hat)\n",
    "plt.scatter(x,y,color='orange')\n",
    "resid=np.sum((y-y_hat)**2)\n",
    "plt.title(f\"OLS Solution, Residuals of {round(resid,2)}\")"
   ]
  },
  {
   "cell_type": "markdown",
   "id": "93047829-d1a4-46bf-ab72-ea1fc5c85eff",
   "metadata": {},
   "source": [
    "### Dual Viewpoint"
   ]
  },
  {
   "cell_type": "code",
   "execution_count": 88,
   "id": "5772f3f2-83a8-4a46-bbc2-2c25adaece99",
   "metadata": {},
   "outputs": [
    {
     "name": "stdout",
     "output_type": "stream",
     "text": [
      "Welcome to the CBC MILP Solver \n",
      "Version: 2.10.8 \n",
      "Build Date: May  6 2022 \n",
      "\n",
      "command line - cbc /tmp/24b5a006f59e4630b52abb31e1a5bc4e-pulp.mps timeMode elapsed branch printingOptions all solution /tmp/24b5a006f59e4630b52abb31e1a5bc4e-pulp.sol (default strategy 1)\n",
      "At line 2 NAME          MODEL\n",
      "At line 3 ROWS\n",
      "At line 55 COLUMNS\n",
      "At line 260 RHS\n",
      "At line 311 BOUNDS\n",
      "At line 316 ENDATA\n",
      "Problem MODEL has 50 rows, 4 columns and 200 elements\n",
      "Coin0008I MODEL read with 0 errors\n",
      "Option for timeMode changed from cpu to elapsed\n",
      "Presolve 50 (0) rows, 4 (0) columns and 200 (0) elements\n",
      "0  Obj 0 Primal inf 2857.903 (47) Dual inf 3.2396953 (2) w.o. free dual inf (0)\n",
      "6  Obj 190.9738\n",
      "6  Obj 6.460772e+12 Primal inf 3.0448335e+13 (14) Dual inf 1.2335644e+15 (4) w.o. free dual inf (3)\n",
      "8  Obj 185.56931 Dual inf 0.43163968 (1)\n",
      "9  Obj 185.41586\n",
      "Optimal - objective value 185.41586\n",
      "Optimal objective 185.415857 - 9 iterations time 0.002\n",
      "Option for printingOptions changed from normal to all\n",
      "Total time (CPU seconds):       0.00   (Wallclock seconds):       0.00\n",
      "\n"
     ]
    },
    {
     "data": {
      "text/plain": [
       "1"
      ]
     },
     "execution_count": 88,
     "metadata": {},
     "output_type": "execute_result"
    }
   ],
   "source": [
    "problem=LpProblem(\"OLS_Example\", LpMinimize)\n",
    "\n",
    "x0=LpVariable(\"Constant\")\n",
    "x1=LpVariable(\"Order_1\")\n",
    "x2=LpVariable(\"Order_2\")\n",
    "x3=LpVariable(\"Order_3\")\n",
    "\n",
    "estimates=np.array([x0,x1,x2,x3])\n",
    "problem+=np.sum(np.dot(features,estimates)-y) # objective\n",
    "\n",
    "for i,row in enumerate(features):\n",
    "    problem+=row[0]*x0+row[1]*x1+row[2]*x2+row[3]*x3 >=y[i]\n",
    "\n",
    "problem.solve()"
   ]
  },
  {
   "cell_type": "code",
   "execution_count": 89,
   "id": "789f1884-c3a5-4efd-bca8-e77a4f518ce4",
   "metadata": {},
   "outputs": [
    {
     "name": "stdout",
     "output_type": "stream",
     "text": [
      "Status: Optimal\n"
     ]
    }
   ],
   "source": [
    "print(\"Status:\", LpStatus[problem.status])"
   ]
  },
  {
   "cell_type": "code",
   "execution_count": 90,
   "id": "d4f7773c-e43d-4879-a07d-87ddec3bbddd",
   "metadata": {},
   "outputs": [
    {
     "name": "stdout",
     "output_type": "stream",
     "text": [
      "Constant = 3.8776765\n",
      "Order_1 = 0.90081797\n",
      "Order_2 = -0.48815334\n",
      "Order_3 = 0.0055193762\n"
     ]
    }
   ],
   "source": [
    "values=[]\n",
    "for v in problem.variables():\n",
    "    print(v.name, \"=\", v.varValue)\n",
    "    values.append(v.varValue)"
   ]
  },
  {
   "cell_type": "code",
   "execution_count": 91,
   "id": "db7a439d-0406-4f9c-812a-c93f3db6a8bf",
   "metadata": {},
   "outputs": [
    {
     "data": {
      "text/plain": [
       "Text(0.5, 1.0, 'OLS Solution, Residuals of 221.1')"
      ]
     },
     "execution_count": 91,
     "metadata": {},
     "output_type": "execute_result"
    },
    {
     "data": {
      "image/png": "[encoded data removed]",
      "text/plain": [
       "<Figure size 640x480 with 1 Axes>"
      ]
     },
     "metadata": {},
     "output_type": "display_data"
    }
   ],
   "source": [
    "y_hat=np.matmul(features,values)\n",
    "plt.plot(x,y_hat)\n",
    "plt.scatter(x,y,color='orange')\n",
    "resid=np.sum((y-y_hat)**2)\n",
    "plt.title(f\"OLS Solution, Residuals of {round(resid,2)}\")"
   ]
  },
  {
   "cell_type": "code",
   "execution_count": null,
   "id": "c2fe2486-9630-4e76-bf1f-c0cf1f893905",
   "metadata": {},
   "outputs": [],
   "source": []
  },
  {
   "cell_type": "code",
   "execution_count": null,
   "id": "6e7a4a47-8f78-4278-ae9b-ead964d258f9",
   "metadata": {},
   "outputs": [],
   "source": []
  }
 ],
 "metadata": {
  "kernelspec": {
   "display_name": "Python [conda env:research]",
   "language": "python",
   "name": "conda-env-research-py"
  },
  "language_info": {
   "codemirror_mode": {
    "name": "ipython",
    "version": 3
   },
   "file_extension": ".py",
   "mimetype": "text/x-python",
   "name": "python",
   "nbconvert_exporter": "python",
   "pygments_lexer": "ipython3",
   "version": "3.7.12"
  }
 },
 "nbformat": 4,
 "nbformat_minor": 5
}
