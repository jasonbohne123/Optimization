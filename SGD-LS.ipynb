{
 "cells": [
  {
   "cell_type": "markdown",
   "id": "b6889c5e-0a87-473b-8182-c785d8093fad",
   "metadata": {},
   "source": [
    "### Stochastic Gradient Descent Method\n",
    "\n",
    "Note how stochastic gradient descent differs, in that it's gradient descent is not the true gradient it is an estimate of the gradient from a sample of points"
   ]
  },
  {
   "cell_type": "code",
   "execution_count": 1,
   "id": "464baa3b-e697-4014-84f7-5afd333593d1",
   "metadata": {},
   "outputs": [],
   "source": [
    "import numpy as np\n",
    "\n",
    "import pandas as pd\n",
    "import matplotlib.pyplot as plt\n",
    "import warnings\n",
    "warnings.filterwarnings('ignore', '.*A value is trying to be set on a copy of a slice from a DataFrame.*')\n",
    "warnings.simplefilter(action='ignore', category=FutureWarning)\n",
    "warnings.simplefilter(action='ignore', category=Warning)"
   ]
  },
  {
   "cell_type": "code",
   "execution_count": 2,
   "id": "576aea16-61e2-4abd-bb0b-4b9d5a413b8f",
   "metadata": {},
   "outputs": [
    {
     "data": {
      "text/plain": [
       "<matplotlib.legend.Legend at 0x7fd24f892090>"
      ]
     },
     "execution_count": 2,
     "metadata": {},
     "output_type": "execute_result"
    },
    {
     "data": {
      "image/png": "[encoded data removed]",
      "text/plain": [
       "<Figure size 432x288 with 1 Axes>"
      ]
     },
     "metadata": {
      "needs_background": "light"
     },
     "output_type": "display_data"
    }
   ],
   "source": [
    "x_train=np.linspace(0,5,20)\n",
    "def f(x):\n",
    "    return x**2+np.sqrt(x)\n",
    "y_train=f(x_train)+2*(-1+2*np.random.rand(20))\n",
    "\n",
    "plt.scatter(x_train,y_train,label='Observed Data')\n",
    "plt.plot(x_train,f(x_train),color='red',label='true')\n",
    "plt.legend()"
   ]
  },
  {
   "cell_type": "code",
   "execution_count": 3,
   "id": "cdad1543-fced-41d2-b456-625199af03c8",
   "metadata": {},
   "outputs": [
    {
     "data": {
      "text/plain": [
       "array([[ 1.        ,  0.        ,  0.        ],\n",
       "       [ 1.        ,  0.26315789,  0.06925208],\n",
       "       [ 1.        ,  0.52631579,  0.27700831],\n",
       "       [ 1.        ,  0.78947368,  0.6232687 ],\n",
       "       [ 1.        ,  1.05263158,  1.10803324],\n",
       "       [ 1.        ,  1.31578947,  1.73130194],\n",
       "       [ 1.        ,  1.57894737,  2.49307479],\n",
       "       [ 1.        ,  1.84210526,  3.3933518 ],\n",
       "       [ 1.        ,  2.10526316,  4.43213296],\n",
       "       [ 1.        ,  2.36842105,  5.60941828],\n",
       "       [ 1.        ,  2.63157895,  6.92520776],\n",
       "       [ 1.        ,  2.89473684,  8.37950139],\n",
       "       [ 1.        ,  3.15789474,  9.97229917],\n",
       "       [ 1.        ,  3.42105263, 11.70360111],\n",
       "       [ 1.        ,  3.68421053, 13.5734072 ],\n",
       "       [ 1.        ,  3.94736842, 15.58171745],\n",
       "       [ 1.        ,  4.21052632, 17.72853186],\n",
       "       [ 1.        ,  4.47368421, 20.01385042],\n",
       "       [ 1.        ,  4.73684211, 22.43767313],\n",
       "       [ 1.        ,  5.        , 25.        ]])"
      ]
     },
     "execution_count": 3,
     "metadata": {},
     "output_type": "execute_result"
    }
   ],
   "source": [
    "M = x_train[:, np.newaxis]**[0,1,2]\n",
    "M"
   ]
  },
  {
   "cell_type": "code",
   "execution_count": 58,
   "id": "01f4b0fa-1616-49c8-8d8f-cc380fb57de9",
   "metadata": {},
   "outputs": [],
   "source": [
    "def stochastic_gradient_descent(x_train,y_train,learning_rate,max_iter=50000,tol=100):\n",
    "    '''\n",
    "    Given training data for feature matrix X and target vector y and a user-specified learning rate solve a least squares problem via stochastic gradient descent \n",
    "    \n",
    "    Here the gradient formula is known analytically -> This makes no difference as TF has tensor differentiation support\n",
    "    \n",
    "    Instead we only compute the gradient on a subset of points configured by subset \n",
    "    \n",
    "    '''\n",
    "    w=np.random.rand(x_train.shape[1])\n",
    "    index=np.arange(len(x_train))\n",
    "    \n",
    "    for j in range (0,max_iter):\n",
    "        rng = np.random.default_rng(j)\n",
    "        rng.shuffle(index)\n",
    "        x_train=x_train[index]\n",
    "        y_train=y_train[index]\n",
    "        \n",
    "        for count in range(1,len(x_train)):\n",
    "            pred=np.dot(x_train,w)\n",
    "            l1_error=(y_train.T-pred) # l1 error for predictions\n",
    "            l2_error=l1_error**2 # l2 error for predictions \n",
    "            \n",
    "            # Takes on a sample -> Iteratively sampling new points \n",
    "            gradient_scaler=(-2)*np.sum(l1_error[count].reshape(-1,1)*x_train[count],axis=0) # differential can be written as matric multiplication\n",
    "           \n",
    "            w=w-learning_rate*gradient_scaler\n",
    "        \n",
    "            \n",
    "        if abs(np.sum(l2_error)) <tol:\n",
    "            print(\"Min Tol Reached at \",j)\n",
    "            return w,l2_error\n",
    "        \n",
    "    print(\"Max Iter reached\")\n",
    "    return w,l2_error"
   ]
  },
  {
   "cell_type": "code",
   "execution_count": 59,
   "id": "e09c4b0e-38fb-440d-ba66-58ba160a40f1",
   "metadata": {},
   "outputs": [
    {
     "name": "stdout",
     "output_type": "stream",
     "text": [
      "Min Tol Reached at  0\n",
      "Weights Vector is [0.5377388  0.69558504 0.95691854]\n",
      "MSE is 36.58156816382545\n"
     ]
    }
   ],
   "source": [
    "weights,error=stochastic_gradient_descent(M,y_train,0.001)\n",
    "print(\"Weights Vector is\", weights)\n",
    "print(\"MSE is\", np.sum(error))"
   ]
  },
  {
   "cell_type": "code",
   "execution_count": 60,
   "id": "f093f31f-2314-47cd-add7-1ff560b18ca3",
   "metadata": {},
   "outputs": [
    {
     "data": {
      "image/png": "[encoded data removed]",
      "text/plain": [
       "<Figure size 432x288 with 1 Axes>"
      ]
     },
     "metadata": {
      "needs_background": "light"
     },
     "output_type": "display_data"
    }
   ],
   "source": [
    "plt.plot(x_train, y_train, 'o', label='data')\n",
    "xx = np.linspace(0, 5, 20)\n",
    "yy = weights[0] +weights[1]*xx+weights[2]*xx**2\n",
    "plt.plot(xx, yy, label='Gradient Descent  fit, $y = a+bx+cx^2$',lw=5)\n",
    "plt.xlabel('x')\n",
    "plt.ylabel('y')\n",
    "plt.legend(framealpha=1, shadow=True)\n",
    "plt.grid(alpha=0.25)\n",
    "plt.show()"
   ]
  },
  {
   "cell_type": "markdown",
   "id": "52a89476-d4f7-4700-b61e-d780e4926464",
   "metadata": {},
   "source": [
    "- Note the improvement of SGD, it was solved to the error threshold within the first sampling of points\n",
    "- The reason this algorithm converges is the learning rate compounds , otherwise one could think of the soln as bouncing between gradients of individually sampled points"
   ]
  },
  {
   "cell_type": "code",
   "execution_count": null,
   "id": "02521046-9651-4a2a-ae97-416bb46fc77b",
   "metadata": {},
   "outputs": [],
   "source": []
  }
 ],
 "metadata": {
  "kernelspec": {
   "display_name": "Python [conda env:research]",
   "language": "python",
   "name": "conda-env-research-py"
  },
  "language_info": {
   "codemirror_mode": {
    "name": "ipython",
    "version": 3
   },
   "file_extension": ".py",
   "mimetype": "text/x-python",
   "name": "python",
   "nbconvert_exporter": "python",
   "pygments_lexer": "ipython3",
   "version": "3.7.13"
  }
 },
 "nbformat": 4,
 "nbformat_minor": 5
}
